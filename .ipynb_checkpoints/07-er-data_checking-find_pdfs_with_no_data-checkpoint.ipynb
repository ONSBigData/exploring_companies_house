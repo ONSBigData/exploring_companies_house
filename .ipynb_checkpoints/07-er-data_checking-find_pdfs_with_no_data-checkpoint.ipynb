{
 "cells": [
  {
   "cell_type": "code",
   "execution_count": 1,
   "metadata": {},
   "outputs": [],
   "source": [
    "import os\n",
    "import glob\n",
    "import random\n",
    "import shutil\n",
    "\n",
    "import pandas as pd\n",
    "\n",
    "random.seed(42)"
   ]
  },
  {
   "cell_type": "code",
   "execution_count": 2,
   "metadata": {},
   "outputs": [],
   "source": [
    "wrk_dir = os.getcwd()\n",
    "os.chdir(f\"{os.getcwd()}/data/old/raw\")\n",
    "pdf_lst = glob.glob(\"*.pdf\")\n",
    "csv_lst = glob.glob(\"*.csv\")\n",
    "os.chdir(wrk_dir)"
   ]
  },
  {
   "cell_type": "code",
   "execution_count": 3,
   "metadata": {},
   "outputs": [],
   "source": [
    "pdf_lst = [file.replace(\".pdf\",\"\") for file in pdf_lst]\n",
    "csv_lst = [file.replace(\".csv\",\"\") for file in csv_lst]"
   ]
  },
  {
   "cell_type": "code",
   "execution_count": 4,
   "metadata": {},
   "outputs": [],
   "source": [
    "data_lst = list(set(pdf_lst) | set(csv_lst))"
   ]
  },
  {
   "cell_type": "code",
   "execution_count": 5,
   "metadata": {},
   "outputs": [],
   "source": [
    "no_data_lst = set(pdf_lst) - set(csv_lst)"
   ]
  },
  {
   "cell_type": "code",
   "execution_count": 6,
   "metadata": {},
   "outputs": [
    {
     "data": {
      "text/plain": [
       "756"
      ]
     },
     "execution_count": 6,
     "metadata": {},
     "output_type": "execute_result"
    }
   ],
   "source": [
    "len(pdf_lst)"
   ]
  },
  {
   "cell_type": "code",
   "execution_count": 7,
   "metadata": {},
   "outputs": [
    {
     "data": {
      "text/plain": [
       "506"
      ]
     },
     "execution_count": 7,
     "metadata": {},
     "output_type": "execute_result"
    }
   ],
   "source": [
    "len(csv_lst)"
   ]
  },
  {
   "cell_type": "code",
   "execution_count": 8,
   "metadata": {},
   "outputs": [
    {
     "data": {
      "text/plain": [
       "250"
      ]
     },
     "execution_count": 8,
     "metadata": {},
     "output_type": "execute_result"
    }
   ],
   "source": [
    "len(no_data_lst)"
   ]
  },
  {
   "cell_type": "code",
   "execution_count": 9,
   "metadata": {},
   "outputs": [
    {
     "data": {
      "text/plain": [
       "0.6693121693121693"
      ]
     },
     "execution_count": 9,
     "metadata": {},
     "output_type": "execute_result"
    }
   ],
   "source": [
    "len(csv_lst)/len(pdf_lst)"
   ]
  },
  {
   "cell_type": "code",
   "execution_count": 10,
   "metadata": {},
   "outputs": [
    {
     "data": {
      "text/plain": [
       "756"
      ]
     },
     "execution_count": 10,
     "metadata": {},
     "output_type": "execute_result"
    }
   ],
   "source": [
    "len(data_lst)"
   ]
  },
  {
   "cell_type": "code",
   "execution_count": 11,
   "metadata": {},
   "outputs": [],
   "source": [
    "data_sample_lst = random.sample(csv_lst, k=25)"
   ]
  },
  {
   "cell_type": "code",
   "execution_count": 12,
   "metadata": {},
   "outputs": [],
   "source": [
    "source = f\"{os.getcwd()}/data/old/raw/\"\n",
    "dest = f\"{os.getcwd()}/data/old/read_check/right\"\n",
    "for file in data_sample_lst:\n",
    "    try:\n",
    "        shutil.copy(f\"{source}{file}.pdf\", dest)\n",
    "    except:\n",
    "        #some are .html\n",
    "        shutil.copy(f\"{source}{file}.html\", dest)\n",
    "        "
   ]
  },
  {
   "cell_type": "code",
   "execution_count": 45,
   "metadata": {},
   "outputs": [],
   "source": [
    "no_data_sample_lst = random.sample(no_data_lst, k=25)"
   ]
  },
  {
   "cell_type": "code",
   "execution_count": 59,
   "metadata": {},
   "outputs": [],
   "source": [
    "source = f\"{os.getcwd()}/data/old/raw/\"\n",
    "dest = f\"{os.getcwd()}/data/old/read_check/\"\n",
    "for file in no_data_sample_lst:\n",
    "    try:\n",
    "        shutil.copy(f\"{source}{file}.pdf\", dest)\n",
    "    except:\n",
    "        #some are .html\n",
    "        shutil.copy(f\"{source}{file}.html\", dest)\n",
    "        "
   ]
  },
  {
   "cell_type": "markdown",
   "metadata": {},
   "source": [
    "copy all data"
   ]
  },
  {
   "cell_type": "code",
   "execution_count": null,
   "metadata": {
    "collapsed": true
   },
   "outputs": [],
   "source": []
  },
  {
   "cell_type": "code",
   "execution_count": 16,
   "metadata": {},
   "outputs": [
    {
     "name": "stdout",
     "output_type": "stream",
     "text": [
      "03296700_2018-01-10 not found\n",
      "10713517_2018-04-10 not found\n",
      "09948734_2018-10-24 not found\n",
      "SO305096_2018-09-28 not found\n",
      "10339675_2018-05-17 not found\n",
      "08805853_2018-10-04 not found\n",
      "10889219_2018-10-30 not found\n",
      "10372623_2018-05-29 not found\n",
      "10739958_2018-10-31 not found\n",
      "10527497_2018-09-13 not found\n",
      "05677314_2018-09-19 not found\n",
      "10672557_2018-12-12 not found\n",
      "10600041_2018-10-29 not found\n",
      "10730447_2019-01-17 not found\n",
      "10636731_2018-11-05 not found\n",
      "10903647_2018-09-27 not found\n",
      "10646296_2018-11-29 not found\n",
      "10689548_2018-12-19 not found\n",
      "08772311_2019-01-31 not found\n",
      "NI610891_2018-06-04 not found\n",
      "08237790_2019-01-09 not found\n",
      "09854054_2018-09-11 not found\n",
      "SC344843_2018-12-05 not found\n",
      "02458441_2018-07-31 not found\n",
      "10264193_2018-05-05 not found\n",
      "10660518_2018-11-19 not found\n",
      "04336894_2018-05-11 not found\n",
      "10754983_2019-02-02 not found\n",
      "10347024_2018-05-25 not found\n",
      "10204741_2018-03-06 not found\n",
      "08907676_2018-05-22 not found\n",
      "10543124_2018-09-10 not found\n",
      "09487709_2018-12-14 not found\n",
      "04605273_2018-09-04 not found\n",
      "02119876_2017-09-21 not found\n",
      "08205641_2018-05-30 not found\n",
      "10722316_2019-01-11 not found\n",
      "10582063_2018-10-31 not found\n",
      "10341209_2018-05-22 not found\n",
      "03205093_2018-12-06 not found\n",
      "10685724_2018-09-25 not found\n",
      "10731848_2018-05-24 not found\n",
      "05494889_2018-10-01 not found\n",
      "10656025_2018-06-19 not found\n",
      "OC311413_2018-09-14 not found\n",
      "09981158_2017-06-01 not found\n",
      "10700777_2018-12-20 not found\n",
      "07097504_2018-08-09 not found\n",
      "10728230_2018-12-19 not found\n",
      "07383925_2018-10-03 not found\n",
      "10667223_2018-12-07 not found\n",
      "10507589_2018-09-04 not found\n",
      "10545477_2018-09-18 not found\n",
      "10874706_2018-10-25 not found\n",
      "08704115_2018-09-08 not found\n",
      "04145736_2018-06-06 not found\n",
      "10342100_2018-12-04 not found\n",
      "08425152_2018-12-30 not found\n",
      "08400859_2018-10-15 not found\n",
      "07241284_2018-12-27 not found\n",
      "10773005_2018-11-22 not found\n",
      "08168174_2018-05-29 not found\n",
      "09061147_2019-01-23 not found\n",
      "10789247_2019-01-11 not found\n",
      "07687603_2018-09-11 not found\n",
      "04406655_2018-08-31 not found\n",
      "10140126_2019-01-31 not found\n",
      "10306957_2018-05-02 not found\n",
      "09680928_2018-09-25 not found\n",
      "10966780_2018-12-06 not found\n",
      "05976743_2018-05-04 not found\n",
      "10756808_2018-12-28 not found\n",
      "10479373_2018-06-21 not found\n",
      "SC579534_2018-12-20 not found\n",
      "10690117_2018-12-21 not found\n",
      "06522069_2018-08-21 not found\n",
      "09216320_2018-09-18 not found\n",
      "10566208_2018-12-20 not found\n",
      "10244687_2017-07-03 not found\n",
      "10716054_2018-12-21 not found\n",
      "03195527_2018-11-21 not found\n",
      "05620114_2018-03-21 not found\n",
      "09955995_2018-11-01 not found\n",
      "02364140_2018-09-26 not found\n",
      "05987949_2018-04-06 not found\n",
      "10589560_2018-10-30 not found\n",
      "10726879_2019-01-09 not found\n",
      "04740006_2018-12-09 not found\n",
      "10706468_2019-01-21 not found\n",
      "04653831_2018-06-26 not found\n",
      "10532659_2018-11-02 not found\n",
      "10571962_2018-09-22 not found\n",
      "10647114_2018-11-30 not found\n",
      "08090394_2018-05-04 not found\n",
      "10651225_2018-12-03 not found\n",
      "02080819_2018-04-24 not found\n",
      "10655161_2018-11-29 not found\n",
      "09405366_2018-08-28 not found\n",
      "NI642518_2018-09-02 not found\n",
      "09038010_2018-05-31 not found\n",
      "11087571_2019-02-04 not found\n",
      "09618523_2018-02-21 not found\n",
      "10641477_2018-05-06 not found\n",
      "10602392_2018-10-17 not found\n",
      "SC319596_2018-12-20 not found\n",
      "06182727_2019-01-04 not found\n",
      "10939817_2018-12-12 not found\n",
      "10963865_2019-01-28 not found\n",
      "10611038_2018-11-08 not found\n",
      "10535528_2018-09-02 not found\n",
      "10146931_2018-05-04 not found\n",
      "10720581_2019-01-11 not found\n",
      "09942605_2017-10-11 not found\n",
      "10303294_2018-06-12 not found\n",
      "06705523_2018-11-19 not found\n",
      "06649364_2018-12-12 not found\n",
      "03178459_2019-01-02 not found\n",
      "04907329_2018-09-19 not found\n",
      "05525165_2018-07-10 not found\n",
      "10915737_2018-11-05 not found\n",
      "10677378_2018-12-16 not found\n",
      "10550078_2018-09-26 not found\n",
      "00247911_2018-08-09 not found\n",
      "09843221_2018-10-07 not found\n",
      "09925438_2018-11-26 not found\n",
      "08687120_2018-11-14 not found\n",
      "09772556_2017-06-11 not found\n",
      "10923677_2018-09-25 not found\n",
      "04265943_2018-09-18 not found\n",
      "08768171_2018-08-30 not found\n",
      "06919730_2018-05-23 not found\n",
      "10620959_2018-10-30 not found\n",
      "10805893_2018-12-21 not found\n",
      "10760769_2018-07-23 not found\n",
      "10709480_2018-10-01 not found\n",
      "07465251_2018-05-21 not found\n",
      "06318736_2018-05-03 not found\n",
      "SC550172_2018-07-09 not found\n",
      "09447254_2017-08-15 not found\n",
      "10923660_2018-10-22 not found\n",
      "08339927_2018-09-27 not found\n",
      "07058084_2018-05-31 not found\n",
      "11128264_2019-02-05 not found\n",
      "10316131_2018-05-08 not found\n",
      "02569086_2018-08-22 not found\n",
      "SC561514_2018-12-20 not found\n",
      "08919333_2018-05-16 not found\n",
      "09747172_2019-01-15 not found\n",
      "00547325_2018-06-06 not found\n",
      "05833659_2017-04-13 not found\n",
      "01309169_2018-10-01 not found\n",
      "09626128_2018-05-21 not found\n",
      "FC013310_2018-03-22 not found\n",
      "10676260_2018-11-14 not found\n",
      "04507536_2018-05-16 not found\n",
      "10483762_2018-09-05 not found\n",
      "10345925_2018-05-10 not found\n",
      "09959699_2018-10-12 not found\n",
      "04063792_2018-09-02 not found\n",
      "08389984_2017-09-26 not found\n",
      "10616881_2019-02-04 not found\n",
      "10712372_2018-12-03 not found\n",
      "08824726_2018-06-07 not found\n",
      "SC449086_2018-03-07 not found\n",
      "03496176_2018-04-26 not found\n",
      "09988632_2017-04-04 not found\n",
      "04965162_2018-09-24 not found\n",
      "10251817_2017-08-26 not found\n",
      "06632483_2018-12-28 not found\n",
      "10574023_2018-10-19 not found\n",
      "05863306_2018-08-03 not found\n",
      "07642245_2018-12-31 not found\n",
      "10614808_2018-11-13 not found\n",
      "08250612_2018-08-02 not found\n",
      "OC382611_2018-06-18 not found\n",
      "10575542_2018-10-17 not found\n",
      "10355449_2018-11-06 not found\n",
      "OC334298_2018-08-07 not found\n",
      "11115843_2018-09-27 not found\n",
      "02049378_2018-09-25 not found\n",
      "10864102_2019-01-31 not found\n",
      "10455819_2018-09-05 not found\n",
      "05889359_2018-05-25 not found\n",
      "SC307593_2017-11-24 not found\n",
      "08446810_2018-11-27 not found\n",
      "03569937_2018-12-24 not found\n",
      "SC239971_2018-05-25 not found\n",
      "NI036473_2018-12-19 not found\n",
      "09254132_2018-08-06 not found\n",
      "07471284_2018-08-21 not found\n",
      "10343417_2018-05-24 not found\n",
      "10695432_2018-12-19 not found\n",
      "10830231_2018-10-08 not found\n",
      "11425029_2019-01-23 not found\n",
      "08249971_2018-03-26 not found\n",
      "08548566_2018-03-06 not found\n",
      "10507550_2018-10-29 not found\n",
      "10893082_2018-09-18 not found\n",
      "08368496_2018-09-26 not found\n",
      "09519785_2018-05-29 not found\n",
      "10494264_2018-08-30 not found\n",
      "11015345_2018-11-14 not found\n",
      "05378673_2018-09-20 not found\n",
      "06329355_2018-09-18 not found\n",
      "10601758_2018-10-01 not found\n",
      "10070786_2018-10-31 not found\n",
      "04809823_2018-07-12 not found\n",
      "10654937_2018-12-07 not found\n",
      "05084383_2018-10-01 not found\n",
      "FC031733_2017-09-26 not found\n",
      "06270988_2017-07-07 not found\n",
      "10534661_2018-09-13 not found\n",
      "01779128_2018-12-24 not found\n",
      "03154163_2018-11-08 not found\n",
      "06648217_2018-12-22 not found\n",
      "10653138_2018-12-05 not found\n",
      "05730772_2018-09-20 not found\n",
      "10994939_2018-12-17 not found\n",
      "08746412_2017-03-28 not found\n",
      "06225712_2019-01-22 not found\n",
      "04378499_2019-01-09 not found\n",
      "01935357_2018-05-23 not found\n",
      "08859280_2018-10-01 not found\n",
      "06545840_2018-08-08 not found\n",
      "10160738_2017-08-17 not found\n",
      "10664168_2018-11-09 not found\n",
      "03934503_2018-10-10 not found\n",
      "04051648_2018-10-06 not found\n",
      "10572079_2018-09-28 not found\n",
      "08784177_2017-08-29 not found\n",
      "04160255_2019-02-02 not found\n",
      "03491077_2018-07-13 not found\n",
      "SC522591_2018-09-27 not found\n",
      "06742922_2018-10-05 not found\n",
      "10644921_2018-11-30 not found\n",
      "SC577700_2019-01-01 not found\n",
      "01809275_2018-02-21 not found\n",
      "03790585_2018-09-30 not found\n",
      "03840769_2018-09-11 not found\n",
      "10280131_2018-01-29 not found\n",
      "OC384692_2019-01-28 not found\n",
      "10184095_2018-11-12 not found\n",
      "10832155_2019-02-05 not found\n",
      "02709473_2019-01-17 not found\n",
      "10707370_2019-01-04 not found\n",
      "08185172_2018-05-16 not found\n",
      "09783927_2018-10-12 not found\n",
      "09739207_2019-02-05 not found\n",
      "09716190_2018-01-29 not found\n",
      "NI038996_2018-05-21 not found\n"
     ]
    }
   ],
   "source": [
    "source = f\"{os.getcwd()}/data/old/raw/\"\n",
    "dest = f\"{os.getcwd()}/data/old/read_check/no_data/\"\n",
    "for file in no_data_lst:\n",
    "    try:\n",
    "        shutil.copy(f\"{source}{file}.pdf\", dest)\n",
    "    except:\n",
    "        #some are .html\n",
    "        try:\n",
    "            shutil.copy(f\"{source}{file}.html\", dest)\n",
    "        except:\n",
    "            print(f\"{file} not found\")\n",
    "        "
   ]
  }
 ],
 "metadata": {
  "kernelspec": {
   "display_name": "explore",
   "language": "python",
   "name": "explore"
  },
  "language_info": {
   "codemirror_mode": {
    "name": "ipython",
    "version": 3
   },
   "file_extension": ".py",
   "mimetype": "text/x-python",
   "name": "python",
   "nbconvert_exporter": "python",
   "pygments_lexer": "ipython3",
   "version": "3.6.8"
  }
 },
 "nbformat": 4,
 "nbformat_minor": 2
}
