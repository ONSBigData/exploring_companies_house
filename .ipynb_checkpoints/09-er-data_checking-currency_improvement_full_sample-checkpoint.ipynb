{
 "cells": [
  {
   "cell_type": "code",
   "execution_count": 1,
   "metadata": {},
   "outputs": [],
   "source": [
    "import os\n",
    "import glob\n",
    "import importlib\n",
    "\n",
    "import numpy as np\n",
    "import pandas as pd\n",
    "\n",
    "import xbrl_image_parser as xip\n",
    "\n",
    "from PIL import Image as im\n",
    "from pytesseract import image_to_data"
   ]
  },
  {
   "cell_type": "code",
   "execution_count": 2,
   "metadata": {},
   "outputs": [],
   "source": [
    "wrk_dir = os.getcwd()\n",
    "os.chdir(f\"{os.getcwd()}/data/old/no_data\")\n",
    "pdf_lst = glob.glob(\"*.pdf\")\n",
    "os.chdir(wrk_dir)"
   ]
  },
  {
   "cell_type": "code",
   "execution_count": 9,
   "metadata": {},
   "outputs": [
    {
     "ename": "SyntaxError",
     "evalue": "EOL while scanning string literal (<ipython-input-9-36a4ae471d6f>, line 4)",
     "output_type": "error",
     "traceback": [
      "\u001b[0;36m  File \u001b[0;32m\"<ipython-input-9-36a4ae471d6f>\"\u001b[0;36m, line \u001b[0;32m4\u001b[0m\n\u001b[0;31m    print(\"processing...)\u001b[0m\n\u001b[0m                         ^\u001b[0m\n\u001b[0;31mSyntaxError\u001b[0m\u001b[0;31m:\u001b[0m EOL while scanning string literal\n"
     ]
    }
   ],
   "source": [
    "results_lst=[]\n",
    "\n",
    "for file in pdf_lst:\n",
    "    print(\"processing...\")\n",
    "    results = xip.process_PDF(f\"{os.getcwd()}/data/old/no_data/{file}\")\n",
    "    if not results.empty:\n",
    "        print(\"saving...\")\n",
    "        results.to_csv(f\"{os.getcwd()}/data/old/no_data/{file.split('.')[0]}.csv\")\n",
    "        results_lst.append(results)\n",
    "    else:\n",
    "        print(f\"no data for: {file}\")\n",
    "                       \n",
    "    print(\"done\")\n",
    "                   "
   ]
  }
 ],
 "metadata": {
  "kernelspec": {
   "display_name": "explore",
   "language": "python",
   "name": "explore"
  },
  "language_info": {
   "codemirror_mode": {
    "name": "ipython",
    "version": 3
   },
   "file_extension": ".py",
   "mimetype": "text/x-python",
   "name": "python",
   "nbconvert_exporter": "python",
   "pygments_lexer": "ipython3",
   "version": "3.6.8"
  }
 },
 "nbformat": 4,
 "nbformat_minor": 2
}
