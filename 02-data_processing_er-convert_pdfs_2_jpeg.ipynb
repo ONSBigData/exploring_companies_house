{
 "cells": [
  {
   "cell_type": "code",
   "execution_count": 1,
   "metadata": {},
   "outputs": [],
   "source": [
    "import glob\n",
    "import os\n",
    "import tempfile\n",
    "\n",
    "from tqdm import tqdm_notebook\n",
    "from pdf2image import convert_from_path, convert_from_bytes\n",
    "\n",
    "pdf_dir = f\"{os.getcwd()}/data/raw/\"\n",
    "image_dir = f\"{os.getcwd()}/data/images\""
   ]
  },
  {
   "cell_type": "markdown",
   "metadata": {},
   "source": [
    "get list of pdfs"
   ]
  },
  {
   "cell_type": "code",
   "execution_count": 4,
   "metadata": {},
   "outputs": [],
   "source": [
    "wrk_dir=os.getcwd()\n",
    "os.chdir(f\"{wrk_dir}/data/raw\")\n",
    "pdf_lst=[f\"{os.getcwd()}/{file}\" for file in glob.glob(\"*.pdf\")]\n",
    "os.chdir(wrk_dir)"
   ]
  },
  {
   "cell_type": "markdown",
   "metadata": {},
   "source": [
    "convert pdfs to images"
   ]
  },
  {
   "cell_type": "code",
   "execution_count": 8,
   "metadata": {},
   "outputs": [
    {
     "data": {
      "application/vnd.jupyter.widget-view+json": {
       "model_id": "ecc9e07eb9d24049995d07213c922ed6",
       "version_major": 2,
       "version_minor": 0
      },
      "text/plain": [
       "HBox(children=(IntProgress(value=0, max=1001), HTML(value='')))"
      ]
     },
     "metadata": {},
     "output_type": "display_data"
    }
   ],
   "source": [
    "for pdf in tqdm_notebook(pdf_lst):\n",
    "    \n",
    "    with tempfile.TemporaryDirectory() as path:\n",
    "        pages = convert_from_path(pdf, output_folder=path)\n",
    "    \n",
    "    filename = pdf.rsplit(\"/\")[-1].split(\".\")[0]\n",
    "    for page, number in zip(pages,range(1,len(pages)+1)):\n",
    "        page.save(f\"{image_dir}/{filename}-page{number}.jpeg\", \"JPEG\")"
   ]
  }
 ],
 "metadata": {
  "kernelspec": {
   "display_name": "explore",
   "language": "python",
   "name": "explore"
  },
  "language_info": {
   "codemirror_mode": {
    "name": "ipython",
    "version": 3
   },
   "file_extension": ".py",
   "mimetype": "text/x-python",
   "name": "python",
   "nbconvert_exporter": "python",
   "pygments_lexer": "ipython3",
   "version": "3.6.5"
  }
 },
 "nbformat": 4,
 "nbformat_minor": 2
}
